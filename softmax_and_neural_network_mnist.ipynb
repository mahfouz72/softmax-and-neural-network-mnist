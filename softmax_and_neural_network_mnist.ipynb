{
  "nbformat": 4,
  "nbformat_minor": 0,
  "metadata": {
    "colab": {
      "provenance": [],
      "authorship_tag": "ABX9TyPwdwoqF6SwsJi2HbLLTsJ/",
      "include_colab_link": true
    },
    "kernelspec": {
      "name": "python3",
      "display_name": "Python 3"
    },
    "language_info": {
      "name": "python"
    }
  },
  "cells": [
    {
      "cell_type": "markdown",
      "metadata": {
        "id": "view-in-github",
        "colab_type": "text"
      },
      "source": [
        "<a href=\"https://colab.research.google.com/github/mahfouz72/softmax-and-neural-network-mnist/blob/data-preparation/softmax_and_neural_network_mnist.ipynb\" target=\"_parent\"><img src=\"https://colab.research.google.com/assets/colab-badge.svg\" alt=\"Open In Colab\"/></a>"
      ]
    },
    {
      "cell_type": "code",
      "execution_count": 16,
      "metadata": {
        "id": "mp-U5mCY01i3"
      },
      "outputs": [],
      "source": [
        "from torchvision import datasets, transforms\n",
        "from torch.utils.data import DataLoader, TensorDataset\n",
        "from sklearn.model_selection import train_test_split\n",
        "import torch"
      ]
    },
    {
      "cell_type": "code",
      "source": [
        "learning_rate = 0.01\n",
        "epochs = 5\n",
        "batch_size = 64"
      ],
      "metadata": {
        "id": "IwgJ31w7wfMj"
      },
      "execution_count": 13,
      "outputs": []
    },
    {
      "cell_type": "code",
      "source": [
        "mnist_dataset = datasets.MNIST(root='data/MNIST',\n",
        "                                      train=True,\n",
        "                                      transform=transforms.ToTensor(),\n",
        "                                      download=True)\n",
        "\n",
        "data = mnist_dataset.data.numpy()\n",
        "labels = mnist_dataset.targets.numpy()\n",
        "\n",
        "# First split: Training (60%) and remaining (40%)\n",
        "train_dataset, remaining_dataset, train_labels, remaining_labels = train_test_split(\n",
        "    data, labels, test_size=0.4, random_state=123\n",
        ")\n",
        "\n",
        "# Second split: Split the remaining 40% into validation (20%) and testing (20%)\n",
        "val_dataset, test_dataset, val_labels, test_labels = train_test_split(\n",
        "    remaining_dataset, remaining_labels, test_size=0.5, random_state=123\n",
        ")\n",
        "\n",
        "# Wrap NumPy arrays within TensorDataset\n",
        "train_dataset = TensorDataset(torch.from_numpy(train_dataset).float(),\n",
        "                              torch.from_numpy(train_labels).long())\n",
        "\n",
        "val_dataset = TensorDataset(torch.from_numpy(val_dataset).float(),\n",
        "                              torch.from_numpy(val_labels).long())\n",
        "\n",
        "test_dataset = TensorDataset(torch.from_numpy(test_dataset).float(),\n",
        "                              torch.from_numpy(test_labels).long())\n",
        "\n",
        "train_loader = DataLoader(train_dataset, batch_size=batch_size, shuffle=True)\n",
        "val_loader = DataLoader(val_dataset, batch_size=batch_size, shuffle=False)\n",
        "test_loader = DataLoader(test_dataset, batch_size=batch_size, shuffle=False)"
      ],
      "metadata": {
        "id": "xxCa9_mQw5md"
      },
      "execution_count": 23,
      "outputs": []
    }
  ]
}