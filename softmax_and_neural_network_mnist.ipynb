{
  "nbformat": 4,
  "nbformat_minor": 0,
  "metadata": {
    "colab": {
      "provenance": [],
      "authorship_tag": "ABX9TyNh5/I3HnDTKarOyW0LNjIG",
      "include_colab_link": true
    },
    "kernelspec": {
      "name": "python3",
      "display_name": "Python 3"
    },
    "language_info": {
      "name": "python"
    }
  },
  "cells": [
    {
      "cell_type": "markdown",
      "metadata": {
        "id": "view-in-github",
        "colab_type": "text"
      },
      "source": [
        "<a href=\"https://colab.research.google.com/github/mahfouz72/softmax-and-neural-network-mnist/blob/softmax-model/softmax_and_neural_network_mnist.ipynb\" target=\"_parent\"><img src=\"https://colab.research.google.com/assets/colab-badge.svg\" alt=\"Open In Colab\"/></a>"
      ]
    },
    {
      "cell_type": "code",
      "execution_count": 30,
      "metadata": {
        "id": "mp-U5mCY01i3"
      },
      "outputs": [],
      "source": [
        "# @title Imports\n",
        "from torchvision import datasets, transforms\n",
        "from torch.utils.data import DataLoader, TensorDataset\n",
        "from sklearn.model_selection import train_test_split\n",
        "import torch\n",
        "import torch.optim as optim"
      ]
    },
    {
      "cell_type": "code",
      "source": [
        "# @title Global vaiables\n",
        "learning_rate = 0.01\n",
        "epochs = 10\n",
        "batch_size = 64\n",
        "input_size = 28 * 28\n",
        "number_of_classes = 10"
      ],
      "metadata": {
        "id": "IwgJ31w7wfMj"
      },
      "execution_count": 29,
      "outputs": []
    },
    {
      "cell_type": "code",
      "source": [
        "# @title Data Preparation\n",
        "\n",
        "transform = transforms.ToTensor()\n",
        "\n",
        "train_dataset = datasets.MNIST(root='data/MNIST', train=True, transform=transform, download=True)\n",
        "test_and_validation_dataset = datasets.MNIST(root='data/MNIST', train=False, transform=transform, download=True)\n",
        "\n",
        "# Extract data and labels for train=False (Split into Validation and Test sets)\n",
        "test_data = test_and_validation_dataset.data.numpy()\n",
        "test_labels = test_and_validation_dataset.targets.numpy()\n",
        "\n",
        "val_data, test_data, val_labels, test_labels = train_test_split(\n",
        "    test_data, test_labels, test_size=0.5, random_state=123\n",
        ")\n",
        "\n",
        "# Wrap NumPy arrays into TensorDataset\n",
        "val_dataset = TensorDataset(torch.from_numpy(val_data).float(), torch.from_numpy(val_labels).long())\n",
        "test_dataset = TensorDataset(torch.from_numpy(test_data).float(), torch.from_numpy(test_labels).long())\n",
        "\n",
        "train_loader = DataLoader(train_dataset, batch_size=batch_size, shuffle=True)\n",
        "val_loader = DataLoader(val_dataset, batch_size=batch_size, shuffle=False)\n",
        "test_loader = DataLoader(test_dataset, batch_size=batch_size, shuffle=False)"
      ],
      "metadata": {
        "colab": {
          "base_uri": "https://localhost:8080/"
        },
        "id": "xxCa9_mQw5md",
        "outputId": "39702f6a-05c3-47b2-d7d4-a5abb2d2d6b7"
      },
      "execution_count": 28,
      "outputs": [
        {
          "output_type": "stream",
          "name": "stdout",
          "text": [
            "Image batch dimensions: torch.Size([64, 1, 28, 28])\n",
            "Label batch dimensions: torch.Size([64])\n",
            "Training set size: 60000 samples\n",
            "Validation set size: 5000 samples\n",
            "Test set size: 5000 samples\n"
          ]
        }
      ]
    },
    {
      "cell_type": "code",
      "source": [
        "# @title Softmax Regression Model\n",
        "\n",
        "class SoftmaxRegression(torch.nn.Module):\n",
        "    def __init__(self, input_size, number_of_classes):\n",
        "        super(SoftmaxRegression, self).__init__()\n",
        "        self.linear = torch.nn.Linear(input_size, number_of_classes)\n",
        "\n",
        "    def forward(self, x):\n",
        "      return self.linear(x)\n",
        "\n",
        "model = SoftmaxRegression(input_size, number_of_classes)\n",
        "optimizer = optim.SGD(model.parameters(), lr = learning_rate)\n",
        "loss_function = torch.nn.CrossEntropyLoss()"
      ],
      "metadata": {
        "id": "lQkcm_t-IZJJ"
      },
      "execution_count": 40,
      "outputs": []
    },
    {
      "cell_type": "code",
      "source": [
        "# @title Training\n",
        "\n",
        "train_losses = []\n",
        "val_losses = []\n",
        "val_accuracies = []\n",
        "\n",
        "for epoch in range(epochs):\n",
        "    model.train()  # just setting to training mode\n",
        "    train_loss = 0.0\n",
        "\n",
        "    for images, labels in train_loader:\n",
        "        images = images.view(-1, input_size)\n",
        "\n",
        "        outputs = model(images)\n",
        "        loss = loss_function(outputs, labels)\n",
        "\n",
        "        optimizer.zero_grad()\n",
        "        loss.backward()\n",
        "        optimizer.step()\n",
        "        train_loss += loss.item()\n",
        "\n",
        "    train_losses.append(train_loss / len(train_loader))\n",
        "\n",
        "\n",
        "    model.eval()\n",
        "    val_loss = 0.0\n",
        "    correct_predictions = 0\n",
        "    total_predictions = 0\n",
        "\n",
        "    with torch.no_grad():\n",
        "      for images, labels in val_loader:\n",
        "        images = images.view(-1, input_size)\n",
        "\n",
        "        outputs = model(images)\n",
        "        loss = loss_function(outputs, labels)\n",
        "\n",
        "        val_loss += loss.item()\n",
        "\n",
        "        predicition = torch.max(outputs, 1)[1]\n",
        "        correct_predictions += (predicition == labels).sum().item()\n",
        "        total_predictions += labels.size(0)\n",
        "\n",
        "    val_losses.append(val_loss / len(val_loader))\n",
        "    val_accuracies.append(correct_predictions / total_predictions)\n",
        "\n",
        "\n",
        "    print(f\"Epoch {epoch+1}/{epochs}, \"\n",
        "          f\"Train Loss: {train_losses[-1]:.4f}, \"\n",
        "          f\"Val Loss: {val_losses[-1]:.4f}, \"\n",
        "          f\"Val Accuracy: {val_accuracies[-1] * 100:.4f}%\")"
      ],
      "metadata": {
        "id": "lVTRiRBvdvKy",
        "outputId": "71debc6a-18bb-4e89-ecd7-f95d0fe0a415",
        "colab": {
          "base_uri": "https://localhost:8080/"
        }
      },
      "execution_count": 43,
      "outputs": [
        {
          "output_type": "stream",
          "name": "stdout",
          "text": [
            "Epoch 1/10, Train Loss: 0.3729, Val Loss: 38.7835, Val Accuracy: 90.2600%\n",
            "Epoch 2/10, Train Loss: 0.3642, Val Loss: 39.4362, Val Accuracy: 90.3200%\n",
            "Epoch 3/10, Train Loss: 0.3569, Val Loss: 39.8769, Val Accuracy: 90.3200%\n",
            "Epoch 4/10, Train Loss: 0.3508, Val Loss: 39.5556, Val Accuracy: 90.7000%\n",
            "Epoch 5/10, Train Loss: 0.3455, Val Loss: 40.0347, Val Accuracy: 90.6800%\n",
            "Epoch 6/10, Train Loss: 0.3410, Val Loss: 40.5638, Val Accuracy: 90.6400%\n",
            "Epoch 7/10, Train Loss: 0.3369, Val Loss: 40.8378, Val Accuracy: 90.6400%\n",
            "Epoch 8/10, Train Loss: 0.3332, Val Loss: 41.2286, Val Accuracy: 90.6200%\n",
            "Epoch 9/10, Train Loss: 0.3301, Val Loss: 41.9892, Val Accuracy: 90.5600%\n",
            "Epoch 10/10, Train Loss: 0.3270, Val Loss: 41.2659, Val Accuracy: 90.8600%\n"
          ]
        }
      ]
    }
  ]
}