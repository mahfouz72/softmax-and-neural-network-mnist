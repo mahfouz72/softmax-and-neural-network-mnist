{
  "cells": [
    {
      "cell_type": "markdown",
      "metadata": {
        "id": "view-in-github",
        "colab_type": "text"
      },
      "source": [
        "<a href=\"https://colab.research.google.com/github/mahfouz72/softmax-and-neural-network-mnist/blob/Neural-network/softmax_and_neural_network_mnist.ipynb\" target=\"_parent\"><img src=\"https://colab.research.google.com/assets/colab-badge.svg\" alt=\"Open In Colab\"/></a>"
      ]
    },
    {
      "cell_type": "code",
      "execution_count": 9,
      "metadata": {
        "id": "mp-U5mCY01i3"
      },
      "outputs": [],
      "source": [
        "# @title Imports\n",
        "from torchvision import datasets, transforms\n",
        "from torch.utils.data import DataLoader, TensorDataset\n",
        "from sklearn.model_selection import train_test_split\n",
        "from sklearn.metrics import confusion_matrix, ConfusionMatrixDisplay\n",
        "import torch\n",
        "import torch.optim as optim\n",
        "import matplotlib.pyplot as plt\n",
        "import time"
      ]
    },
    {
      "cell_type": "code",
      "execution_count": 2,
      "metadata": {
        "id": "IwgJ31w7wfMj"
      },
      "outputs": [],
      "source": [
        "# @title Global vaiables\n",
        "learning_rate = 0.01\n",
        "epochs = 25\n",
        "batch_size = 64\n",
        "input_size = 28 * 28\n",
        "number_of_classes = 10\n",
        "l2_value = 0.000"
      ]
    },
    {
      "cell_type": "code",
      "execution_count": 4,
      "metadata": {
        "id": "xxCa9_mQw5md"
      },
      "outputs": [],
      "source": [
        "# @title Data Preparation\n",
        "\n",
        "transform = transforms.ToTensor()\n",
        "\n",
        "train_dataset = datasets.MNIST(root='data/MNIST', train=True, transform=transform, download=True)\n",
        "test_and_validation_dataset = datasets.MNIST(root='data/MNIST', train=False, transform=transform, download=True)\n",
        "\n",
        "# Extract data and labels for train=False (Split into Validation and Test sets)\n",
        "test_data = test_and_validation_dataset.data.numpy() / 255.0\n",
        "test_labels = test_and_validation_dataset.targets.numpy()\n",
        "\n",
        "val_data, test_data, val_labels, test_labels = train_test_split(\n",
        "    test_data, test_labels, test_size=0.5, random_state=123\n",
        ")\n",
        "\n",
        "# Wrap NumPy arrays into TensorDataset\n",
        "val_dataset = TensorDataset(torch.from_numpy(val_data).float(), torch.from_numpy(val_labels).long())\n",
        "test_dataset = TensorDataset(torch.from_numpy(test_data).float(), torch.from_numpy(test_labels).long())\n",
        "\n",
        "train_loader = DataLoader(train_dataset, batch_size=batch_size, shuffle=True)\n",
        "val_loader = DataLoader(val_dataset, batch_size=batch_size, shuffle=False)\n",
        "test_loader = DataLoader(test_dataset, batch_size=batch_size, shuffle=False)"
      ]
    },
    {
      "cell_type": "code",
      "execution_count": null,
      "metadata": {
        "id": "lQkcm_t-IZJJ"
      },
      "outputs": [],
      "source": [
        "# @title Softmax Regression Model\n",
        "\n",
        "class SoftmaxRegression(torch.nn.Module):\n",
        "    def __init__(self, input_size, number_of_classes):\n",
        "        super(SoftmaxRegression, self).__init__()\n",
        "        self.linear = torch.nn.Linear(input_size, number_of_classes)\n",
        "\n",
        "    def forward(self, x):\n",
        "      return self.linear(x)\n",
        "\n",
        "model = SoftmaxRegression(input_size, number_of_classes)\n",
        "optimizer = optim.SGD(model.parameters(), lr = learning_rate)\n",
        "loss_function = torch.nn.CrossEntropyLoss()"
      ]
    },
    {
      "cell_type": "code",
      "execution_count": null,
      "metadata": {
        "id": "fcBlSIwI9keY"
      },
      "outputs": [],
      "source": [
        "# @title Training\n",
        "\n",
        "train_losses = []\n",
        "val_losses = []\n",
        "val_accuracies = []\n",
        "\n",
        "for epoch in range(epochs):\n",
        "    model.train()  # just setting to training mode\n",
        "    train_loss = 0.0\n",
        "\n",
        "    for images, labels in train_loader:\n",
        "        images = images.view(-1, input_size)\n",
        "\n",
        "        outputs = model(images)\n",
        "        loss = loss_function(outputs, labels)\n",
        "\n",
        "        optimizer.zero_grad()\n",
        "        loss.backward()\n",
        "        optimizer.step()\n",
        "        train_loss += loss.item()\n",
        "\n",
        "    train_losses.append(train_loss / len(train_loader))\n",
        "\n",
        "\n",
        "    model.eval()\n",
        "    val_loss = 0.0\n",
        "    correct_predictions = 0\n",
        "    total_predictions = 0\n",
        "\n",
        "    with torch.no_grad():\n",
        "      for images, labels in val_loader:\n",
        "        images = images.view(-1, input_size)\n",
        "\n",
        "        outputs = model(images)\n",
        "        loss = loss_function(outputs, labels)\n",
        "\n",
        "        val_loss += loss.item()\n",
        "\n",
        "        predicition = torch.max(outputs, 1)[1]\n",
        "        correct_predictions += (predicition == labels).sum().item()\n",
        "        total_predictions += labels.size(0)\n",
        "\n",
        "    val_losses.append(val_loss / len(val_loader))\n",
        "    val_accuracies.append(correct_predictions / total_predictions)\n",
        "\n",
        "\n",
        "    print(f\"Epoch {epoch+1}/{epochs}, \"\n",
        "          f\"Train Loss: {train_losses[-1]:.4f}, \"\n",
        "          f\"Val Loss: {val_losses[-1]:.4f}, \"\n",
        "          f\"Val Accuracy: {val_accuracies[-1] * 100:.4f}%\")"
      ]
    },
    {
      "cell_type": "code",
      "execution_count": 5,
      "metadata": {
        "id": "j-vmQ9hx9keZ"
      },
      "outputs": [],
      "source": [
        "# @title Neural Network Model\n",
        "\n",
        "class NeuralNetwork(torch.nn.Module):\n",
        "    def __init__(self, input_size, number_of_classes):\n",
        "        super(NeuralNetwork, self).__init__()\n",
        "        self.fc1 = torch.nn.Linear(input_size, 128)   #input: input_size, output: 128 neurons\n",
        "        self.relu1 = torch.nn.ReLU()                  #Defines a ReLU (Rectified Linear Unit) activation function to introduce\n",
        "                                                        #non-linearity after the first layer.\n",
        "        self.fc2 = torch.nn.Linear(128, 64)\n",
        "        self.relu2 = torch.nn.ReLU()\n",
        "        self.fc3 = torch.nn.Linear(64, number_of_classes)\n",
        "\n",
        "    def forward(self, x):\n",
        "        x = x.view(-1, input_size)  # Flatten the input\n",
        "        x = self.relu1(self.fc1(x))\n",
        "        x = self.relu2(self.fc2(x))\n",
        "        return self.fc3(x)\n",
        "\n",
        "# Initialize NN model, optimizer, and loss function\n",
        "nn_model = NeuralNetwork(input_size, number_of_classes)      #Adam optimizer is used for training the model. It adjusts the weights of the network to minimize the loss.\n",
        "nn_optimizer = optim.Adam(nn_model.parameters(), lr=learning_rate)\n",
        "nn_loss_function = torch.nn.CrossEntropyLoss()\n",
        "#torch.nn.CrossEntropyLoss(): Combines the softmax activation and negative log-likelihood loss. It's suitable for multi-class classification tasks like MNIST.\n"
      ]
    },
    {
      "cell_type": "code",
      "execution_count": 6,
      "metadata": {
        "id": "upPOUPm_9keZ"
      },
      "outputs": [],
      "source": [
        "\"\"\"\n",
        "model: The neural network to be trained.\n",
        "loader: The data loader (e.g., train_loader) that provides batches of data.\n",
        "optimizer: The optimizer (e.g., nn_optimizer) used to update the model's weights.\n",
        "loss_function: The loss function (e.g., nn_loss_function) that measures the error.\n",
        "\n",
        "\n",
        "\n",
        "\"\"\"\n",
        "# @title NN Training Loop\n",
        "\n",
        "def train_nn(model, loader, optimizer, loss_function):\n",
        "    model.train()\n",
        "    total_loss = 0\n",
        "    for images, labels in loader:\n",
        "        # Flatten the images\n",
        "        images = images.view(-1, input_size)\n",
        "        labels = labels\n",
        "\n",
        "        # Forward pass\n",
        "        outputs = model(images)\n",
        "        loss = loss_function(outputs, labels)\n",
        "\n",
        "        # Backward pass\n",
        "        optimizer.zero_grad()\n",
        "        loss.backward()\n",
        "        optimizer.step()\n",
        "\n",
        "        total_loss += loss.item()\n",
        "    return total_loss / len(loader)"
      ]
    },
    {
      "cell_type": "code",
      "execution_count": 7,
      "metadata": {
        "id": "8sJG0b2o9kea"
      },
      "outputs": [],
      "source": [
        "\"\"\"\n",
        "The evaluate_nn function evaluates the performance of a trained neural network on a given dataset (e.g., validation or test data). Here's a breakdown:\n",
        "model: The trained neural network to be evaluated.\n",
        "loader: The data loader (e.g., val_loader or test_loader) that provides batches of data for evaluation.\n",
        "loss_function: The loss function (e.g., nn_loss_function) used to compute the loss.\n",
        "\n",
        "\"\"\"\n",
        "# @title NN Evaluation Loop\n",
        "\n",
        "def evaluate_nn(model, loader, loss_function):\n",
        "    model.eval()\n",
        "    correct = 0\n",
        "    total = 0\n",
        "    total_loss = 0\n",
        "    with torch.no_grad():\n",
        "        for images, labels in loader:\n",
        "            # Flatten the images\n",
        "            images = images.view(-1, input_size)\n",
        "            labels = labels\n",
        "\n",
        "            # Forward pass\n",
        "            outputs = model(images)\n",
        "            loss = loss_function(outputs, labels)\n",
        "\n",
        "            # Compute accuracy\n",
        "            _, predicted = torch.max(outputs, 1)\n",
        "            correct += (predicted == labels).sum().item()\n",
        "            total += labels.size(0)\n",
        "\n",
        "            total_loss += loss.item()\n",
        "\n",
        "    accuracy = correct / total\n",
        "    return total_loss / len(loader), accuracy\n"
      ]
    },
    {
      "cell_type": "code",
      "execution_count": 10,
      "metadata": {
        "id": "zoVJ1SfP9kea",
        "outputId": "ae8052e6-042d-4d3b-d04d-00f71c8d914d",
        "colab": {
          "base_uri": "https://localhost:8080/"
        }
      },
      "outputs": [
        {
          "output_type": "stream",
          "name": "stdout",
          "text": [
            "Training Neural Network...\n",
            "Epoch 1/25: Train Loss = 0.2370, Val Loss = 0.2162, Val Accuracy = 0.9422\n",
            "Epoch 2/25: Train Loss = 0.1426, Val Loss = 0.1379, Val Accuracy = 0.9626\n",
            "Epoch 3/25: Train Loss = 0.1246, Val Loss = 0.1289, Val Accuracy = 0.9636\n",
            "Epoch 4/25: Train Loss = 0.1033, Val Loss = 0.1751, Val Accuracy = 0.9590\n",
            "Epoch 5/25: Train Loss = 0.1020, Val Loss = 0.1923, Val Accuracy = 0.9574\n",
            "Epoch 6/25: Train Loss = 0.0930, Val Loss = 0.1606, Val Accuracy = 0.9650\n",
            "Epoch 7/25: Train Loss = 0.0908, Val Loss = 0.1528, Val Accuracy = 0.9670\n",
            "Epoch 8/25: Train Loss = 0.0904, Val Loss = 0.1788, Val Accuracy = 0.9646\n",
            "Epoch 9/25: Train Loss = 0.0747, Val Loss = 0.1728, Val Accuracy = 0.9658\n",
            "Epoch 10/25: Train Loss = 0.0848, Val Loss = 0.2049, Val Accuracy = 0.9552\n",
            "Epoch 11/25: Train Loss = 0.0711, Val Loss = 0.1685, Val Accuracy = 0.9682\n",
            "Epoch 12/25: Train Loss = 0.0641, Val Loss = 0.1463, Val Accuracy = 0.9722\n",
            "Epoch 13/25: Train Loss = 0.0575, Val Loss = 0.1769, Val Accuracy = 0.9668\n",
            "Epoch 14/25: Train Loss = 0.0632, Val Loss = 0.2106, Val Accuracy = 0.9670\n",
            "Epoch 15/25: Train Loss = 0.0739, Val Loss = 0.2165, Val Accuracy = 0.9670\n",
            "Epoch 16/25: Train Loss = 0.0579, Val Loss = 0.1999, Val Accuracy = 0.9676\n",
            "Epoch 17/25: Train Loss = 0.0588, Val Loss = 0.2083, Val Accuracy = 0.9718\n",
            "Epoch 18/25: Train Loss = 0.0579, Val Loss = 0.2416, Val Accuracy = 0.9664\n",
            "Epoch 19/25: Train Loss = 0.0583, Val Loss = 0.1834, Val Accuracy = 0.9718\n",
            "Epoch 20/25: Train Loss = 0.0543, Val Loss = 0.2585, Val Accuracy = 0.9680\n",
            "Epoch 21/25: Train Loss = 0.0543, Val Loss = 0.2116, Val Accuracy = 0.9690\n",
            "Epoch 22/25: Train Loss = 0.0514, Val Loss = 0.2122, Val Accuracy = 0.9710\n",
            "Epoch 23/25: Train Loss = 0.0519, Val Loss = 0.2064, Val Accuracy = 0.9684\n",
            "Epoch 24/25: Train Loss = 0.0610, Val Loss = 0.2690, Val Accuracy = 0.9706\n",
            "Epoch 25/25: Train Loss = 0.0488, Val Loss = 0.2498, Val Accuracy = 0.9700\n",
            "Test Accuracy: 0.9720\n",
            "Training time: 295.9970\n"
          ]
        }
      ],
      "source": [
        "# @title Train and Evaluate Neural Network\n",
        "\n",
        "# Training the NN\n",
        "print(\"Training Neural Network...\")\n",
        "start_time = time.time()\n",
        "for epoch in range(epochs):\n",
        "    train_loss = train_nn(nn_model, train_loader, nn_optimizer, nn_loss_function)\n",
        "    val_loss, val_accuracy = evaluate_nn(nn_model, val_loader, nn_loss_function)\n",
        "    print(f\"Epoch {epoch+1}/{epochs}: Train Loss = {train_loss:.4f}, Val Loss = {val_loss:.4f}, Val Accuracy = {val_accuracy:.4f}\")\n",
        "end_time = time.time()\n",
        "# Testing the NN\n",
        "test_loss, test_accuracy = evaluate_nn(nn_model, test_loader, nn_loss_function)\n",
        "print(f\"Test Accuracy: {test_accuracy:.4f}\")\n",
        "training_time = end_time - start_time\n",
        "print(f\"Training time: {training_time:.4f}\")\n"
      ]
    }
  ],
  "metadata": {
    "colab": {
      "provenance": [],
      "include_colab_link": true
    },
    "kernelspec": {
      "display_name": "Python 3",
      "language": "python",
      "name": "python3"
    },
    "language_info": {
      "codemirror_mode": {
        "name": "ipython",
        "version": 3
      },
      "file_extension": ".py",
      "mimetype": "text/x-python",
      "name": "python",
      "nbconvert_exporter": "python",
      "pygments_lexer": "ipython3",
      "version": "3.10.9"
    }
  },
  "nbformat": 4,
  "nbformat_minor": 0
}