{
  "nbformat": 4,
  "nbformat_minor": 0,
  "metadata": {
    "colab": {
      "provenance": [],
      "authorship_tag": "ABX9TyOvAqNzkre2jBx/2j+hkXAM",
      "include_colab_link": true
    },
    "kernelspec": {
      "name": "python3",
      "display_name": "Python 3"
    },
    "language_info": {
      "name": "python"
    }
  },
  "cells": [
    {
      "cell_type": "markdown",
      "metadata": {
        "id": "view-in-github",
        "colab_type": "text"
      },
      "source": [
        "<a href=\"https://colab.research.google.com/github/mahfouz72/softmax-and-neural-network-mnist/blob/data-preparation/softmax_and_neural_network_mnist.ipynb\" target=\"_parent\"><img src=\"https://colab.research.google.com/assets/colab-badge.svg\" alt=\"Open In Colab\"/></a>"
      ]
    },
    {
      "cell_type": "code",
      "execution_count": 16,
      "metadata": {
        "id": "mp-U5mCY01i3"
      },
      "outputs": [],
      "source": [
        "# @title Imports\n",
        "from torchvision import datasets, transforms\n",
        "from torch.utils.data import DataLoader, TensorDataset\n",
        "from sklearn.model_selection import train_test_split\n",
        "import torch"
      ]
    },
    {
      "cell_type": "code",
      "source": [
        "# @title Global vaiables\n",
        "learning_rate = 0.01\n",
        "epochs = 5\n",
        "batch_size = 64"
      ],
      "metadata": {
        "id": "IwgJ31w7wfMj"
      },
      "execution_count": 13,
      "outputs": []
    },
    {
      "cell_type": "code",
      "source": [
        "# @title Data Preparation\n",
        "\n",
        "transform = transforms.ToTensor()\n",
        "\n",
        "train_dataset = datasets.MNIST(root='data/MNIST', train=True, transform=transform, download=True)\n",
        "test_and_validation_dataset = datasets.MNIST(root='data/MNIST', train=False, transform=transform, download=True)\n",
        "\n",
        "# Extract data and labels for train=False (Split into Validation and Test sets)\n",
        "test_data = test_and_validation_dataset.data.numpy()\n",
        "test_labels = test_and_validation_dataset.targets.numpy()\n",
        "\n",
        "val_data, test_data, val_labels, test_labels = train_test_split(\n",
        "    test_data, test_labels, test_size=0.5, random_state=123\n",
        ")\n",
        "\n",
        "# Wrap NumPy arrays into TensorDataset\n",
        "val_dataset = TensorDataset(torch.from_numpy(val_data).float(), torch.from_numpy(val_labels).long())\n",
        "test_dataset = TensorDataset(torch.from_numpy(test_data).float(), torch.from_numpy(test_labels).long())\n",
        "\n",
        "train_loader = DataLoader(train_dataset, batch_size=batch_size, shuffle=True)\n",
        "val_loader = DataLoader(val_dataset, batch_size=batch_size, shuffle=False)\n",
        "test_loader = DataLoader(test_dataset, batch_size=batch_size, shuffle=False)"
      ],
      "metadata": {
        "colab": {
          "base_uri": "https://localhost:8080/"
        },
        "id": "xxCa9_mQw5md",
        "outputId": "39702f6a-05c3-47b2-d7d4-a5abb2d2d6b7"
      },
      "execution_count": 28,
      "outputs": [
        {
          "output_type": "stream",
          "name": "stdout",
          "text": [
            "Image batch dimensions: torch.Size([64, 1, 28, 28])\n",
            "Label batch dimensions: torch.Size([64])\n",
            "Training set size: 60000 samples\n",
            "Validation set size: 5000 samples\n",
            "Test set size: 5000 samples\n"
          ]
        }
      ]
    },
    {
      "cell_type": "code",
      "source": [],
      "metadata": {
        "id": "lQkcm_t-IZJJ"
      },
      "execution_count": null,
      "outputs": []
    }
  ]
}